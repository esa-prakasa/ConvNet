{
  "nbformat": 4,
  "nbformat_minor": 0,
  "metadata": {
    "colab": {
      "name": "corn_classify.ipynb",
      "provenance": [],
      "authorship_tag": "ABX9TyMvbQxDGPbRwxHQIUAXRqkT",
      "include_colab_link": true
    },
    "kernelspec": {
      "name": "python3",
      "display_name": "Python 3"
    }
  },
  "cells": [
    {
      "cell_type": "markdown",
      "metadata": {
        "id": "view-in-github",
        "colab_type": "text"
      },
      "source": [
        "<a href=\"https://colab.research.google.com/github/esa-prakasa/ConvNet/blob/master/corn_classify.ipynb\" target=\"_parent\"><img src=\"https://colab.research.google.com/assets/colab-badge.svg\" alt=\"Open In Colab\"/></a>"
      ]
    },
    {
      "cell_type": "code",
      "metadata": {
        "id": "bK5WWOa5M9lV",
        "colab_type": "code",
        "colab": {
          "base_uri": "https://localhost:8080/",
          "height": 513
        },
        "outputId": "669ec20a-e910-480f-f2b9-0f7a35a71ec4"
      },
      "source": [
        "# Load dan mount Google Drive\n",
        "from google.colab import drive\n",
        "\n",
        "# Pilihan user authorization dengan menggunakan account Google\n",
        "drive.mount('/content/drive', force_remount = True)\n",
        "\n",
        "# Pilihan user authorization dengan menggunakan account Google\n",
        "!ls -l \"/content/drive/My Drive/Colab Notebooks/dataset/\""
      ],
      "execution_count": 4,
      "outputs": [
        {
          "output_type": "stream",
          "text": [
            "Go to this URL in a browser: https://accounts.google.com/o/oauth2/auth?client_id=947318989803-6bn6qk8qdgf4n4g3pfee6491hc0brc4i.apps.googleusercontent.com&redirect_uri=urn%3aietf%3awg%3aoauth%3a2.0%3aoob&response_type=code&scope=email%20https%3a%2f%2fwww.googleapis.com%2fauth%2fdocs.test%20https%3a%2f%2fwww.googleapis.com%2fauth%2fdrive%20https%3a%2f%2fwww.googleapis.com%2fauth%2fdrive.photos.readonly%20https%3a%2f%2fwww.googleapis.com%2fauth%2fpeopleapi.readonly\n",
            "\n",
            "Enter your authorization code:\n",
            "··········\n",
            "Mounted at /content/drive\n",
            "total 96611\n",
            "-rw------- 1 root root      168 Feb  7 04:37  abc.csv\n",
            "-rw------- 1 root root    46323 Feb 11 07:41  b15.jpg\n",
            "-rw------- 1 root root   310090 Feb  7 04:18  juanda.jpg\n",
            "-rw------- 1 root root  3780462 Feb  7 09:53  juantestbw.bmp\n",
            "-rw------- 1 root root   993426 Feb  7 09:51  juantest.jpg\n",
            "-rw------- 1 root root  2458120 Feb 11 07:41  keras_model.h5\n",
            "-rw------- 1 root root       15 Feb 11 07:41  labels.txt\n",
            "-rw------- 1 root root      151 Feb  7 04:32 'pima-indians-diabetes (1).data.csv.gdoc'\n",
            "-rw------- 1 root root    23278 Feb  7 03:47  pima-indians-diabetes.data.csv\n",
            "-rw------- 1 root root      151 Feb  7 04:33  pima-indians-diabetes.data.csv.gdoc\n",
            "-rw------- 1 root root    39617 Feb 11 07:42  r15.jpg\n",
            "-rw------- 1 root root        0 Feb  7 15:02  rc_result20200207150205.csv.csv\n",
            "-rw------- 1 root root  3780324 Feb  7 15:02  rc_result20200207150222.csv.csv\n",
            "-rw------- 1 root root  3780324 Feb  7 16:08  rc_result20200207160845.csv.csv\n",
            "-rw------- 1 root root 21367491 Feb  7 11:24  result20200207112420.csv\n",
            "-rw------- 1 root root       30 Feb  7 15:02  result20200207150205.csv\n",
            "-rw------- 1 root root 21367491 Feb  7 15:02  result20200207150222.csv\n",
            "-rw------- 1 root root       30 Feb  7 16:11  result20200207160845.csv\n",
            "-rw------- 1 root root 20535894 Feb  7 08:01  rgb20200207145649.csv\n",
            "-rw------- 1 root root     1518 Feb  7 09:38  road_model.json\n",
            "-rw------- 1 root root    15872 Feb  7 09:38  road_wg_model.h5\n",
            "-rw------- 1 root root 20422411 Feb  7 10:08  test20200207170710.csv\n"
          ],
          "name": "stdout"
        }
      ]
    },
    {
      "cell_type": "code",
      "metadata": {
        "id": "u6bq1NcmMGSV",
        "colab_type": "code",
        "colab": {}
      },
      "source": [
        "import tensorflow.keras\n",
        "from PIL import Image, ImageOps\n",
        "import numpy as np\n",
        "\n",
        "# Disable scientific notation for clarity\n",
        "np.set_printoptions(suppress=True)\n",
        "\n",
        "# Load the model\n",
        "model = tensorflow.keras.models.load_model('/content/drive/My Drive/Colab Notebooks/dataset/keras_model.h5')\n",
        "\n"
      ],
      "execution_count": 0,
      "outputs": []
    },
    {
      "cell_type": "code",
      "metadata": {
        "id": "JwKkBZj-NrQv",
        "colab_type": "code",
        "colab": {
          "base_uri": "https://localhost:8080/",
          "height": 51
        },
        "outputId": "14a11559-bfc2-4da5-9f2a-148710e70165"
      },
      "source": [
        "\n",
        "# Create the array of the right shape to feed into the keras model\n",
        "# The 'length' or number of images you can put into the array is\n",
        "# determined by the first position in the shape tuple, in this case 1.\n",
        "data = np.ndarray(shape=(1, 224, 224, 3), dtype=np.float32)\n",
        "\n",
        "# Replace this with the path to your image\n",
        "image = Image.open('/content/drive/My Drive/Colab Notebooks/dataset/b15.jpg')\n",
        "\n",
        "#resize the image to a 224x224 with the same strategy as in TM2:\n",
        "#resizing the image to be at least 224x224 and then cropping from the center\n",
        "size = (224, 224)\n",
        "image = ImageOps.fit(image, size, Image.ANTIALIAS)\n",
        "\n",
        "#turn the image into a numpy array\n",
        "image_array = np.asarray(image)\n",
        "\n",
        "# display the resized image\n",
        "image.show()\n",
        "\n",
        "# Normalize the image\n",
        "normalized_image_array = (image_array.astype(np.float32) / 127.0) - 1\n",
        "\n",
        "# Load the image into the array\n",
        "data[0] = normalized_image_array\n",
        "\n",
        "# run the inference\n",
        "prediction = model.predict(data)\n",
        "print(prediction)\n",
        "\n",
        "idx = np.argmax(prediction)\n",
        "\n",
        "if idx == 0:\n",
        "  print(\"Baik\")\n",
        "if idx == 1:\n",
        "  print(\"Buruk\")  "
      ],
      "execution_count": 10,
      "outputs": [
        {
          "output_type": "stream",
          "text": [
            "[[0.9998996  0.00010035]]\n",
            "Baik\n"
          ],
          "name": "stdout"
        }
      ]
    }
  ]
}