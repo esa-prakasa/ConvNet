{
  "nbformat": 4,
  "nbformat_minor": 0,
  "metadata": {
    "colab": {
      "name": "Image Classification with Pytorch - Part 1.ipynb",
      "provenance": [],
      "collapsed_sections": [],
      "include_colab_link": true
    },
    "kernelspec": {
      "name": "python3",
      "display_name": "Python 3"
    }
  },
  "cells": [
    {
      "cell_type": "markdown",
      "metadata": {
        "id": "view-in-github",
        "colab_type": "text"
      },
      "source": [
        "<a href=\"https://colab.research.google.com/github/esa-prakasa/ConvNet/blob/master/Image_Classification_with_Pytorch_Part_1.ipynb\" target=\"_parent\"><img src=\"https://colab.research.google.com/assets/colab-badge.svg\" alt=\"Open In Colab\"/></a>"
      ]
    },
    {
      "cell_type": "markdown",
      "metadata": {
        "id": "OcDICBV1RMNE"
      },
      "source": [
        "## Image Classification with Pytorch - Part 1"
      ]
    },
    {
      "cell_type": "code",
      "metadata": {
        "id": "4PHK3dzLTYBp"
      },
      "source": [
        "import matplotlib.pyplot as plt\n",
        "import torch\n",
        "import torch.nn as nn\n",
        "import torchvision\n",
        "from torchvision import datasets, transforms\n",
        "from torch.nn import functional as F\n",
        "import numpy as np\n",
        "from sklearn.metrics import classification_report"
      ],
      "execution_count": null,
      "outputs": []
    },
    {
      "cell_type": "code",
      "metadata": {
        "id": "bhwN8BcBY7W0",
        "outputId": "39c07103-c019-4406-be55-bb79565a7511",
        "colab": {
          "base_uri": "https://localhost:8080/",
          "height": 35
        }
      },
      "source": [
        "torch.manual_seed(0) # for REPRODUCIBILITY"
      ],
      "execution_count": null,
      "outputs": [
        {
          "output_type": "execute_result",
          "data": {
            "text/plain": [
              "<torch._C.Generator at 0x7f0acfb39450>"
            ]
          },
          "metadata": {
            "tags": []
          },
          "execution_count": 8
        }
      ]
    },
    {
      "cell_type": "markdown",
      "metadata": {
        "id": "m28bfiHDjw8I"
      },
      "source": [
        "## Load MNIST Dataset"
      ]
    },
    {
      "cell_type": "code",
      "metadata": {
        "id": "JYzMpscITcqA"
      },
      "source": [
        "mnist_data_train = datasets.MNIST('data', \n",
        "                            train=True, \n",
        "                            download=True, \n",
        "                            transform=transforms.ToTensor())\n",
        "trainloader = torch.utils.data.DataLoader(mnist_data_train, batch_size=4,\n",
        "                                          shuffle=True)\n",
        "mnist_data_test = datasets.MNIST('data', \n",
        "                            train=False, \n",
        "                            download=True, \n",
        "                            transform=transforms.ToTensor())\n",
        "testloader = torch.utils.data.DataLoader(mnist_data_test, batch_size=4,\n",
        "                                          shuffle=True)"
      ],
      "execution_count": null,
      "outputs": []
    },
    {
      "cell_type": "markdown",
      "metadata": {
        "id": "-gM3OOXpj3GG"
      },
      "source": [
        "#### Single Image visualization"
      ]
    },
    {
      "cell_type": "code",
      "metadata": {
        "id": "cYRvh_9UXQGe"
      },
      "source": [
        "def imshow(img):\n",
        "    img = img.numpy()\n",
        "    plt.imshow(np.transpose(img, (1, 2, 0)))\n",
        "    plt.show()"
      ],
      "execution_count": null,
      "outputs": []
    },
    {
      "cell_type": "code",
      "metadata": {
        "id": "77tzpjTJXkl5"
      },
      "source": [
        "# get some random training images\n",
        "dataiter = iter(trainloader)\n",
        "images, labels = dataiter.next()"
      ],
      "execution_count": null,
      "outputs": []
    },
    {
      "cell_type": "code",
      "metadata": {
        "id": "OQTEoFyeb4a4",
        "outputId": "f019da1a-90f3-4593-f32c-9a50e16baf75",
        "colab": {
          "base_uri": "https://localhost:8080/",
          "height": 35
        }
      },
      "source": [
        "images[0].shape"
      ],
      "execution_count": null,
      "outputs": [
        {
          "output_type": "execute_result",
          "data": {
            "text/plain": [
              "torch.Size([1, 28, 28])"
            ]
          },
          "metadata": {
            "tags": []
          },
          "execution_count": 12
        }
      ]
    },
    {
      "cell_type": "code",
      "metadata": {
        "id": "hCwmYzf_XQza",
        "outputId": "b73a5364-53ce-4dbf-fb6e-81ce7f7e1c41",
        "colab": {
          "base_uri": "https://localhost:8080/",
          "height": 138
        }
      },
      "source": [
        "imshow(torchvision.utils.make_grid(images)) # image preview"
      ],
      "execution_count": null,
      "outputs": [
        {
          "output_type": "display_data",
          "data": {
            "image/png": "[encoded data removed]",
            "text/plain": [
              "<Figure size 432x288 with 1 Axes>"
            ]
          },
          "metadata": {
            "tags": [],
            "needs_background": "light"
          }
        }
      ]
    },
    {
      "cell_type": "code",
      "metadata": {
        "id": "0PzXosGXZVc2",
        "outputId": "d31bfa8a-c24a-43c8-80a7-30410d60eef3",
        "colab": {
          "base_uri": "https://localhost:8080/",
          "height": 53
        }
      },
      "source": [
        "print(\"label is:\")\n",
        "print(' '.join('%5s' % int(labels[j]) for j in range(4))) #label"
      ],
      "execution_count": null,
      "outputs": [
        {
          "output_type": "stream",
          "text": [
            "label is:\n",
            "    5     6     5     8\n"
          ],
          "name": "stdout"
        }
      ]
    },
    {
      "cell_type": "markdown",
      "metadata": {
        "id": "UiRRvBDoj-4y"
      },
      "source": [
        "## Define model (simple logistic regression)"
      ]
    },
    {
      "cell_type": "code",
      "metadata": {
        "id": "QrpmEaSYTdpy"
      },
      "source": [
        "# define model\n",
        "class MulticlassLogisticRegression(nn.Module):\n",
        "    def __init__(self, input_dim, output_dim):\n",
        "        super(MulticlassLogisticRegression, self).__init__()\n",
        "        self.linear = nn.Linear(input_dim, output_dim)\n",
        "\n",
        "    def forward(self, x):\n",
        "        x = x.reshape(-1, 28 * 28)\n",
        "        out = self.linear(x)\n",
        "        return out"
      ],
      "execution_count": null,
      "outputs": []
    }
  ]
}