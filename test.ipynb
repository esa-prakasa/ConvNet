{
  "nbformat": 4,
  "nbformat_minor": 0,
  "metadata": {
    "colab": {
      "name": "test.ipynb",
      "provenance": [],
      "collapsed_sections": [],
      "include_colab_link": true
    },
    "kernelspec": {
      "name": "python3",
      "display_name": "Python 3"
    }
  },
  "cells": [
    {
      "cell_type": "markdown",
      "metadata": {
        "id": "view-in-github",
        "colab_type": "text"
      },
      "source": [
        "<a href=\"https://colab.research.google.com/github/esa-prakasa/ConvNet/blob/master/test.ipynb\" target=\"_parent\"><img src=\"https://colab.research.google.com/assets/colab-badge.svg\" alt=\"Open In Colab\"/></a>"
      ]
    },
    {
      "cell_type": "code",
      "metadata": {
        "id": "qzwoQzTSB5vg",
        "colab_type": "code",
        "colab": {}
      },
      "source": [
        "from keras.models import model_from_json\n",
        "import os\n",
        "\n",
        "# Load dan mount Google Drive\n",
        "from google.colab import drive\n",
        "\n",
        "# Pilihan user authorization dengan menggunakan account Google\n",
        "drive.mount('/content/drive')"
      ],
      "execution_count": 0,
      "outputs": []
    },
    {
      "cell_type": "code",
      "metadata": {
        "id": "MZzUVhQrPIx0",
        "colab_type": "code",
        "colab": {
          "base_uri": "https://localhost:8080/",
          "height": 35
        },
        "outputId": "4aed69bb-c918-4835-aa94-b733a56c8c42"
      },
      "source": [
        "import os\n",
        "#!ls -l \"/content/drive/My Drive/data12_C/train/\"\n",
        "dataPath = \"/content/drive/My Drive/data12_C/train/\"\n",
        "spNames = [item for item in os.listdir(dataPath) if os.path.isdir(os.path.join(dataPath, item))]\n",
        "\n",
        "from IPython.display import clear_output\n",
        "clear_output\n",
        "\n",
        "spNames = sorted(spNames)\n"
      ],
      "execution_count": 8,
      "outputs": [
        {
          "output_type": "stream",
          "text": [
            "['10091', '12672', '13381', '18212', '21684', '33497', '33963', '34013', '6171631', '6867', '7012', 'N4127']\n"
          ],
          "name": "stdout"
        }
      ]
    },
    {
      "cell_type": "code",
      "metadata": {
        "id": "BtIAkqAPRPrg",
        "colab_type": "code",
        "colab": {
          "base_uri": "https://localhost:8080/",
          "height": 624
        },
        "outputId": "6ab89dd2-d953-4162-ffef-6ffdc5271c40"
      },
      "source": [
        "modelPath = \"/content/drive/My Drive/simpNet12/\"\n",
        "# load json and create model\n",
        "json_file = open(modelPath+'modnet400_30.json', 'r')\n",
        "\n",
        "loaded_model_json = json_file.read()\n",
        "json_file.close()\n",
        "model = model_from_json(loaded_model_json)\n",
        "\n",
        "# load weights into new model\n",
        "model.load_weights(modelPath+'wood12C400_30.h5')\n",
        "\n",
        "\n",
        "print(\"Loaded model from disk\")\n",
        "print(spNames)\n",
        "print(model.summary())"
      ],
      "execution_count": 10,
      "outputs": [
        {
          "output_type": "stream",
          "text": [
            "Loaded model from disk\n",
            "['10091', '12672', '13381', '18212', '21684', '33497', '33963', '34013', '6171631', '6867', '7012', 'N4127']\n",
            "Model: \"sequential_1\"\n",
            "_________________________________________________________________\n",
            "Layer (type)                 Output Shape              Param #   \n",
            "=================================================================\n",
            "conv2d_1 (Conv2D)            (None, 398, 398, 64)      1792      \n",
            "_________________________________________________________________\n",
            "max_pooling2d_1 (MaxPooling2 (None, 199, 199, 64)      0         \n",
            "_________________________________________________________________\n",
            "conv2d_2 (Conv2D)            (None, 197, 197, 32)      18464     \n",
            "_________________________________________________________________\n",
            "max_pooling2d_2 (MaxPooling2 (None, 98, 98, 32)        0         \n",
            "_________________________________________________________________\n",
            "conv2d_3 (Conv2D)            (None, 96, 96, 16)        4624      \n",
            "_________________________________________________________________\n",
            "max_pooling2d_3 (MaxPooling2 (None, 48, 48, 16)        0         \n",
            "_________________________________________________________________\n",
            "max_pooling2d_4 (MaxPooling2 (None, 12, 12, 16)        0         \n",
            "_________________________________________________________________\n",
            "flatten_1 (Flatten)          (None, 2304)              0         \n",
            "_________________________________________________________________\n",
            "dense_1 (Dense)              (None, 1024)              2360320   \n",
            "_________________________________________________________________\n",
            "dense_2 (Dense)              (None, 256)               262400    \n",
            "_________________________________________________________________\n",
            "dense_3 (Dense)              (None, 128)               32896     \n",
            "_________________________________________________________________\n",
            "dense_4 (Dense)              (None, 12)                1548      \n",
            "=================================================================\n",
            "Total params: 2,682,044\n",
            "Trainable params: 2,682,044\n",
            "Non-trainable params: 0\n",
            "_________________________________________________________________\n",
            "None\n"
          ],
          "name": "stdout"
        }
      ]
    },
    {
      "cell_type": "code",
      "metadata": {
        "id": "zfRw1wj5WBBT",
        "colab_type": "code",
        "colab": {
          "base_uri": "https://localhost:8080/",
          "height": 35
        },
        "outputId": "83796f3e-5e38-4c77-9bbc-6725200b60f8"
      },
      "source": [
        "import PIL\n",
        "from PIL import Image\n",
        "\n",
        "fileName = '6867.jpg'\n",
        "fullPathToRead = modelPath+'testimg/'+fileName\n",
        "\n",
        "img = Image.open(fullPathToRead)\n",
        "oriDmSz = img.size\n",
        "print(\"Original image dimension is \"+str(oriDmSz[0])+\" x \"+str(oriDmSz[1]))\n"
      ],
      "execution_count": 34,
      "outputs": [
        {
          "output_type": "stream",
          "text": [
            "Original image dimension is 2160 x 2160\n"
          ],
          "name": "stdout"
        }
      ]
    },
    {
      "cell_type": "code",
      "metadata": {
        "id": "iaO_2ti3SDXq",
        "colab_type": "code",
        "colab": {
          "base_uri": "https://localhost:8080/",
          "height": 193
        },
        "outputId": "32385b22-dc24-47df-95e1-e3ce144e95dc"
      },
      "source": [
        "import numpy as np\n",
        "from keras.preprocessing import image\n",
        "from os import listdir\n",
        "from os.path import isfile, join\n",
        "from random import randint\n",
        "\n",
        "\n",
        "\n",
        "dimSz = 400\n",
        "testImagePath = modelPath+'testimg/'\n",
        "\n",
        "fileName = [f for f in listdir(testImagePath) if isfile(join(testImagePath, f))]\n",
        "fileName = sorted(fileName)\n",
        "\n",
        "print(\"Species Names\")\n",
        "print(spNames)\n",
        "print(\" \")\n",
        "\n",
        "print(\"Available Class of Test Images\")\n",
        "print(fileName)\n",
        "fileIdx = randint(0,11)\n",
        "\n",
        "fullPathToRead = modelPath+'testimg/'+fileName[fileIdx]\n",
        "\n",
        "inputImage = image.load_img(fullPathToRead, target_size =(dimSz, dimSz))\n",
        "inputImage = image.img_to_array(inputImage)\n",
        "inputImage = np.expand_dims(inputImage, axis = 0)\n",
        "\n",
        "\n",
        "\n",
        "result = model.predict(inputImage)\n",
        "print(\" \")\n",
        "print(result)\n",
        "\n",
        "classIdx = np.argmax(result)\n",
        "print(\" \")\n",
        "print('Input:'+fileName[fileIdx]+' is identified as --> '+spNames[classIdx])\n",
        "\n",
        "if (fileIdx==classIdx):\n",
        "  print(\"Good\")\n"
      ],
      "execution_count": 67,
      "outputs": [
        {
          "output_type": "stream",
          "text": [
            "Species Names\n",
            "['10091', '12672', '13381', '18212', '21684', '33497', '33963', '34013', '6171631', '6867', '7012', 'N4127']\n",
            " \n",
            "Available Class of Test Images\n",
            "['10091.jpg', '12672.jpg', '13381.jpg', '6867.jpg', '7012.jpg', '18212.jpg', '21684.jpg', '33497.jpg', '33963.jpg', '34013.jpg', '6171631.jpg', 'N4127.jpg']\n",
            " \n",
            "[[0. 0. 0. 1. 0. 0. 0. 0. 0. 0. 0. 0.]]\n",
            " \n",
            "Input:18212.jpg is identified as --> 18212\n"
          ],
          "name": "stdout"
        }
      ]
    }
  ]
}