{
  "nbformat": 4,
  "nbformat_minor": 0,
  "metadata": {
    "colab": {
      "name": "test.ipynb",
      "provenance": [],
      "collapsed_sections": [],
      "include_colab_link": true
    },
    "kernelspec": {
      "name": "python3",
      "display_name": "Python 3"
    }
  },
  "cells": [
    {
      "cell_type": "markdown",
      "metadata": {
        "id": "view-in-github",
        "colab_type": "text"
      },
      "source": [
        "<a href=\"https://colab.research.google.com/github/esa-prakasa/ConvNet/blob/master/test.ipynb\" target=\"_parent\"><img src=\"https://colab.research.google.com/assets/colab-badge.svg\" alt=\"Open In Colab\"/></a>"
      ]
    },
    {
      "cell_type": "code",
      "metadata": {
        "id": "qzwoQzTSB5vg",
        "colab_type": "code",
        "colab": {
          "base_uri": "https://localhost:8080/",
          "height": 188
        },
        "outputId": "a1296a41-5979-4167-9c8e-4163c80101a2"
      },
      "source": [
        "from keras.models import model_from_json\n",
        "import os\n",
        "\n",
        "# Load dan mount Google Drive\n",
        "from google.colab import drive\n",
        "\n",
        "# Pilihan user authorization dengan menggunakan account Google\n",
        "drive.mount('/content/drive')"
      ],
      "execution_count": 1,
      "outputs": [
        {
          "output_type": "stream",
          "text": [
            "Using TensorFlow backend.\n"
          ],
          "name": "stderr"
        },
        {
          "output_type": "display_data",
          "data": {
            "text/html": [
              "<p style=\"color: red;\">\n",
              "The default version of TensorFlow in Colab will soon switch to TensorFlow 2.x.<br>\n",
              "We recommend you <a href=\"https://www.tensorflow.org/guide/migrate\" target=\"_blank\">upgrade</a> now \n",
              "or ensure your notebook will continue to use TensorFlow 1.x via the <code>%tensorflow_version 1.x</code> magic:\n",
              "<a href=\"https://colab.research.google.com/notebooks/tensorflow_version.ipynb\" target=\"_blank\">more info</a>.</p>\n"
            ],
            "text/plain": [
              "<IPython.core.display.HTML object>"
            ]
          },
          "metadata": {
            "tags": []
          }
        },
        {
          "output_type": "stream",
          "text": [
            "Go to this URL in a browser: https://accounts.google.com/o/oauth2/auth?client_id=947318989803-6bn6qk8qdgf4n4g3pfee6491hc0brc4i.apps.googleusercontent.com&redirect_uri=urn%3Aietf%3Awg%3Aoauth%3A2.0%3Aoob&scope=email%20https%3A%2F%2Fwww.googleapis.com%2Fauth%2Fdocs.test%20https%3A%2F%2Fwww.googleapis.com%2Fauth%2Fdrive%20https%3A%2F%2Fwww.googleapis.com%2Fauth%2Fdrive.photos.readonly%20https%3A%2F%2Fwww.googleapis.com%2Fauth%2Fpeopleapi.readonly&response_type=code\n",
            "\n",
            "Enter your authorization code:\n",
            "··········\n",
            "Mounted at /content/drive\n"
          ],
          "name": "stdout"
        }
      ]
    },
    {
      "cell_type": "code",
      "metadata": {
        "id": "MZzUVhQrPIx0",
        "colab_type": "code",
        "colab": {}
      },
      "source": [
        "import os\n",
        "#!ls -l \"/content/drive/My Drive/data12_C/train/\"\n",
        "dataPath = \"/content/drive/My Drive/data12_C/train/\"\n",
        "spNames = [item for item in os.listdir(dataPath) if os.path.isdir(os.path.join(dataPath, item))]\n",
        "\n",
        "from IPython.display import clear_output\n",
        "clear_output\n",
        "\n",
        "spNames = sorted(spNames)\n"
      ],
      "execution_count": 0,
      "outputs": []
    },
    {
      "cell_type": "code",
      "metadata": {
        "id": "BtIAkqAPRPrg",
        "colab_type": "code",
        "outputId": "3d8e48bb-7d36-4a95-ae6b-be8e68abc9ed",
        "colab": {
          "base_uri": "https://localhost:8080/",
          "height": 956
        }
      },
      "source": [
        "modelPath = \"/content/drive/My Drive/simpNet12/\"\n",
        "# load json and create model\n",
        "json_file = open(modelPath+'modnet400_30.json', 'r')\n",
        "\n",
        "loaded_model_json = json_file.read()\n",
        "json_file.close()\n",
        "model = model_from_json(loaded_model_json)\n",
        "\n",
        "# load weights into new model\n",
        "model.load_weights(modelPath+'wood12C400_30.h5')\n",
        "\n",
        "\n",
        "print(\"Loaded model from disk\")\n",
        "print(spNames)\n",
        "print(model.summary())"
      ],
      "execution_count": 3,
      "outputs": [
        {
          "output_type": "stream",
          "text": [
            "WARNING:tensorflow:From /usr/local/lib/python3.6/dist-packages/keras/backend/tensorflow_backend.py:541: The name tf.placeholder is deprecated. Please use tf.compat.v1.placeholder instead.\n",
            "\n",
            "WARNING:tensorflow:From /usr/local/lib/python3.6/dist-packages/keras/backend/tensorflow_backend.py:4432: The name tf.random_uniform is deprecated. Please use tf.random.uniform instead.\n",
            "\n",
            "WARNING:tensorflow:From /usr/local/lib/python3.6/dist-packages/keras/backend/tensorflow_backend.py:4267: The name tf.nn.max_pool is deprecated. Please use tf.nn.max_pool2d instead.\n",
            "\n",
            "WARNING:tensorflow:From /usr/local/lib/python3.6/dist-packages/keras/backend/tensorflow_backend.py:190: The name tf.get_default_session is deprecated. Please use tf.compat.v1.get_default_session instead.\n",
            "\n",
            "WARNING:tensorflow:From /usr/local/lib/python3.6/dist-packages/keras/backend/tensorflow_backend.py:197: The name tf.ConfigProto is deprecated. Please use tf.compat.v1.ConfigProto instead.\n",
            "\n",
            "WARNING:tensorflow:From /usr/local/lib/python3.6/dist-packages/keras/backend/tensorflow_backend.py:203: The name tf.Session is deprecated. Please use tf.compat.v1.Session instead.\n",
            "\n",
            "WARNING:tensorflow:From /usr/local/lib/python3.6/dist-packages/keras/backend/tensorflow_backend.py:207: The name tf.global_variables is deprecated. Please use tf.compat.v1.global_variables instead.\n",
            "\n",
            "WARNING:tensorflow:From /usr/local/lib/python3.6/dist-packages/keras/backend/tensorflow_backend.py:216: The name tf.is_variable_initialized is deprecated. Please use tf.compat.v1.is_variable_initialized instead.\n",
            "\n",
            "WARNING:tensorflow:From /usr/local/lib/python3.6/dist-packages/keras/backend/tensorflow_backend.py:223: The name tf.variables_initializer is deprecated. Please use tf.compat.v1.variables_initializer instead.\n",
            "\n",
            "Loaded model from disk\n",
            "['10091', '12672', '13381', '18212', '21684', '33497', '33963', '34013', '6171631', '6867', '7012', 'N4127']\n",
            "Model: \"sequential_1\"\n",
            "_________________________________________________________________\n",
            "Layer (type)                 Output Shape              Param #   \n",
            "=================================================================\n",
            "conv2d_1 (Conv2D)            (None, 398, 398, 64)      1792      \n",
            "_________________________________________________________________\n",
            "max_pooling2d_1 (MaxPooling2 (None, 199, 199, 64)      0         \n",
            "_________________________________________________________________\n",
            "conv2d_2 (Conv2D)            (None, 197, 197, 32)      18464     \n",
            "_________________________________________________________________\n",
            "max_pooling2d_2 (MaxPooling2 (None, 98, 98, 32)        0         \n",
            "_________________________________________________________________\n",
            "conv2d_3 (Conv2D)            (None, 96, 96, 16)        4624      \n",
            "_________________________________________________________________\n",
            "max_pooling2d_3 (MaxPooling2 (None, 48, 48, 16)        0         \n",
            "_________________________________________________________________\n",
            "max_pooling2d_4 (MaxPooling2 (None, 12, 12, 16)        0         \n",
            "_________________________________________________________________\n",
            "flatten_1 (Flatten)          (None, 2304)              0         \n",
            "_________________________________________________________________\n",
            "dense_1 (Dense)              (None, 1024)              2360320   \n",
            "_________________________________________________________________\n",
            "dense_2 (Dense)              (None, 256)               262400    \n",
            "_________________________________________________________________\n",
            "dense_3 (Dense)              (None, 128)               32896     \n",
            "_________________________________________________________________\n",
            "dense_4 (Dense)              (None, 12)                1548      \n",
            "=================================================================\n",
            "Total params: 2,682,044\n",
            "Trainable params: 2,682,044\n",
            "Non-trainable params: 0\n",
            "_________________________________________________________________\n",
            "None\n"
          ],
          "name": "stdout"
        }
      ]
    },
    {
      "cell_type": "code",
      "metadata": {
        "id": "zfRw1wj5WBBT",
        "colab_type": "code",
        "outputId": "c856f8b1-ec0d-4887-fea0-2df6ad84a0a6",
        "colab": {
          "base_uri": "https://localhost:8080/",
          "height": 35
        }
      },
      "source": [
        "import PIL\n",
        "from PIL import Image\n",
        "\n",
        "fileName = '6867.jpg'\n",
        "fullPathToRead = modelPath+'testimg/'+fileName\n",
        "\n",
        "img = Image.open(fullPathToRead)\n",
        "oriDmSz = img.size\n",
        "print(\"Original image dimension is \"+str(oriDmSz[0])+\" x \"+str(oriDmSz[1]))\n"
      ],
      "execution_count": 4,
      "outputs": [
        {
          "output_type": "stream",
          "text": [
            "Original image dimension is 2160 x 2160\n"
          ],
          "name": "stdout"
        }
      ]
    },
    {
      "cell_type": "code",
      "metadata": {
        "id": "iaO_2ti3SDXq",
        "colab_type": "code",
        "outputId": "823d068f-bcd9-47fa-c142-f9330e9bd9dc",
        "colab": {
          "base_uri": "https://localhost:8080/",
          "height": 211
        }
      },
      "source": [
        "import numpy as np\n",
        "from keras.preprocessing import image\n",
        "from os import listdir\n",
        "from os.path import isfile, join\n",
        "from random import randint\n",
        "\n",
        "\n",
        "\n",
        "dimSz = 400\n",
        "testImagePath = modelPath+'testimg/'\n",
        "\n",
        "fileName = [f for f in listdir(testImagePath) if isfile(join(testImagePath, f))]\n",
        "fileName = sorted(fileName)\n",
        "\n",
        "print(\"Species Names\")\n",
        "print(spNames)\n",
        "print(\" \")\n",
        "\n",
        "print(\"Available Class of Test Images\")\n",
        "print(fileName)\n",
        "fileIdx = randint(0,11)\n",
        "\n",
        "fullPathToRead = modelPath+'testimg/'+fileName[fileIdx]\n",
        "\n",
        "inputImage = image.load_img(fullPathToRead, target_size =(dimSz, dimSz))\n",
        "inputImage = image.img_to_array(inputImage)\n",
        "inputImage = np.expand_dims(inputImage, axis = 0)\n",
        "\n",
        "\n",
        "\n",
        "result = model.predict(inputImage)\n",
        "print(\" \")\n",
        "print(result)\n",
        "\n",
        "classIdx = np.argmax(result)\n",
        "print(\" \")\n",
        "print('Input:'+fileName[fileIdx]+' is identified as --> '+spNames[classIdx])\n",
        "\n",
        "if (fileIdx==classIdx):\n",
        "  print(\"Good Job!! :D \")\n",
        "else:\n",
        "  print(\"It is FAIL! :(\")\n",
        "\n"
      ],
      "execution_count": 5,
      "outputs": [
        {
          "output_type": "stream",
          "text": [
            "Species Names\n",
            "['10091', '12672', '13381', '18212', '21684', '33497', '33963', '34013', '6171631', '6867', '7012', 'N4127']\n",
            " \n",
            "Available Class of Test Images\n",
            "['10091.jpg', '12672.jpg', '13381.jpg', '18212.jpg', '21684.jpg', '33497.jpg', '33963.jpg', '34013.jpg', '6171631.jpg', '6867.jpg', '7012.jpg', 'N4127.jpg']\n",
            " \n",
            "[[0. 0. 0. 1. 0. 0. 0. 0. 0. 0. 0. 0.]]\n",
            " \n",
            "Input:18212.jpg is identified as --> 18212\n",
            "Good Job!! :D \n"
          ],
          "name": "stdout"
        }
      ]
    },
    {
      "cell_type": "code",
      "metadata": {
        "id": "pnv3z963ED51",
        "colab_type": "code",
        "colab": {
          "base_uri": "https://localhost:8080/",
          "height": 121
        },
        "outputId": "3a93218b-b3aa-42d0-bed2-1ba19957cb3d"
      },
      "source": [
        "result = model.predict(inputImage)\n",
        "print('Hasil method predict: '+str(result)+'\\n')\n",
        "\n",
        "resProb = model.predict_proba(inputImage)\n",
        "print('Hasil method predict_proba: '+str(resProb)+'\\n')\n",
        "\n",
        "specIdx = model.predict_classes(inputImage)\n",
        "print('Index dengan nilai probability tertinggi: '+str(specIdx))\n",
        "\n",
        "import numpy as np\n",
        "np.set_printoptions(precision=3)\n",
        "np.array(resProb)"
      ],
      "execution_count": 42,
      "outputs": [
        {
          "output_type": "stream",
          "text": [
            "Hasil method predict: [[0. 0. 0. 1. 0. 0. 0. 0. 0. 0. 0. 0.]]\n",
            "\n",
            "Hasil method predict_proba: [[0. 0. 0. 1. 0. 0. 0. 0. 0. 0. 0. 0.]]\n",
            "\n",
            "Index dengan nilai probability tertinggi: [3]\n"
          ],
          "name": "stdout"
        },
        {
          "output_type": "execute_result",
          "data": {
            "text/plain": [
              "array([[0., 0., 0., 1., 0., 0., 0., 0., 0., 0., 0., 0.]], dtype=float32)"
            ]
          },
          "metadata": {
            "tags": []
          },
          "execution_count": 42
        }
      ]
    }
  ]
}