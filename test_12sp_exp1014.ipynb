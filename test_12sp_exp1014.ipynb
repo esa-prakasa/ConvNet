{
  "nbformat": 4,
  "nbformat_minor": 0,
  "metadata": {
    "colab": {
      "name": "test_12sp_exp1014.ipynb",
      "provenance": [],
      "collapsed_sections": [],
      "include_colab_link": true
    },
    "kernelspec": {
      "name": "python3",
      "display_name": "Python 3"
    }
  },
  "cells": [
    {
      "cell_type": "markdown",
      "metadata": {
        "id": "view-in-github",
        "colab_type": "text"
      },
      "source": [
        "<a href=\"https://colab.research.google.com/github/esa-prakasa/ConvNet/blob/master/test_12sp_exp1014.ipynb\" target=\"_parent\"><img src=\"https://colab.research.google.com/assets/colab-badge.svg\" alt=\"Open In Colab\"/></a>"
      ]
    },
    {
      "cell_type": "code",
      "metadata": {
        "id": "qzwoQzTSB5vg",
        "colab_type": "code",
        "colab": {}
      },
      "source": [
        "from keras.models import model_from_json\n",
        "import os\n",
        "\n",
        "\n",
        "# Load dan mount Google Drive\n",
        "from google.colab import drive\n",
        "\n",
        "# Pilihan user authorization dengan menggunakan account Google\n",
        "drive.mount('/content/drive')"
      ],
      "execution_count": 0,
      "outputs": []
    },
    {
      "cell_type": "code",
      "metadata": {
        "id": "w0oIwoZHEhHI",
        "colab_type": "code",
        "outputId": "2dfad8ff-a399-4aee-fc3a-c3080a4c02e1",
        "colab": {
          "base_uri": "https://localhost:8080/",
          "height": 87
        }
      },
      "source": [
        "!ls -l \"/content/drive/My Drive/data12_C/exp1014mowg/\""
      ],
      "execution_count": 0,
      "outputs": [
        {
          "output_type": "stream",
          "text": [
            "total 10522\n",
            "-rw------- 1 root root     4666 Oct 17 10:13 modnet400_30.json\n",
            "-rw------- 1 root root    10257 Oct 17 12:11 test_12sp_exp1014.ipynb\n",
            "-rw------- 1 root root 10758040 Oct 17 10:13 wood12C400_30.h5\n"
          ],
          "name": "stdout"
        }
      ]
    },
    {
      "cell_type": "code",
      "metadata": {
        "id": "uYflHJiDExb6",
        "colab_type": "code",
        "outputId": "b9727a97-245f-4eb4-d844-ed93f38b79f3",
        "colab": {
          "base_uri": "https://localhost:8080/",
          "height": 384
        }
      },
      "source": [
        "train_data_dir = '/content/drive/My Drive/data12_C/train'  \n",
        "validation_data_dir = '/content/drive/My Drive/data12_C/valid'  \n",
        "test_data_dir = '/content/drive/My Drive/data12_C/test' \n",
        "\n",
        "target_names = [item for item in os.listdir(train_data_dir) if os.path.isdir(os.path.join(train_data_dir, item))]\n",
        "\n",
        "\n",
        "\n",
        "# load json and create model\n",
        "json_file = open('/content/drive/My Drive/data12_C/exp1014mowg/modnet400_30.json', 'r')\n",
        "\n",
        "loaded_model_json = json_file.read()\n",
        "json_file.close()\n",
        "model = model_from_json(loaded_model_json)\n",
        "\n",
        "# load weights into new model\n",
        "model.load_weights('/content/drive/My Drive/data12_C/exp1014mowg/wood12C400_30.h5')\n",
        "os.system('cls')\n",
        "target_names = sorted(target_names)\n",
        "\n",
        "\n",
        "print(\"Loaded model from disk\")\n",
        "print(target_names)"
      ],
      "execution_count": 0,
      "outputs": [
        {
          "output_type": "stream",
          "text": [
            "WARNING:tensorflow:From /usr/local/lib/python3.6/dist-packages/keras/backend/tensorflow_backend.py:541: The name tf.placeholder is deprecated. Please use tf.compat.v1.placeholder instead.\n",
            "\n",
            "WARNING:tensorflow:From /usr/local/lib/python3.6/dist-packages/keras/backend/tensorflow_backend.py:4432: The name tf.random_uniform is deprecated. Please use tf.random.uniform instead.\n",
            "\n",
            "WARNING:tensorflow:From /usr/local/lib/python3.6/dist-packages/keras/backend/tensorflow_backend.py:4267: The name tf.nn.max_pool is deprecated. Please use tf.nn.max_pool2d instead.\n",
            "\n",
            "WARNING:tensorflow:From /usr/local/lib/python3.6/dist-packages/keras/backend/tensorflow_backend.py:190: The name tf.get_default_session is deprecated. Please use tf.compat.v1.get_default_session instead.\n",
            "\n",
            "WARNING:tensorflow:From /usr/local/lib/python3.6/dist-packages/keras/backend/tensorflow_backend.py:197: The name tf.ConfigProto is deprecated. Please use tf.compat.v1.ConfigProto instead.\n",
            "\n",
            "WARNING:tensorflow:From /usr/local/lib/python3.6/dist-packages/keras/backend/tensorflow_backend.py:203: The name tf.Session is deprecated. Please use tf.compat.v1.Session instead.\n",
            "\n",
            "WARNING:tensorflow:From /usr/local/lib/python3.6/dist-packages/keras/backend/tensorflow_backend.py:207: The name tf.global_variables is deprecated. Please use tf.compat.v1.global_variables instead.\n",
            "\n",
            "WARNING:tensorflow:From /usr/local/lib/python3.6/dist-packages/keras/backend/tensorflow_backend.py:216: The name tf.is_variable_initialized is deprecated. Please use tf.compat.v1.is_variable_initialized instead.\n",
            "\n",
            "WARNING:tensorflow:From /usr/local/lib/python3.6/dist-packages/keras/backend/tensorflow_backend.py:223: The name tf.variables_initializer is deprecated. Please use tf.compat.v1.variables_initializer instead.\n",
            "\n",
            "Loaded model from disk\n",
            "['10091', '12672', '13381', '18212', '21684', '33497', '33963', '34013', '6171631', '6867', '7012', 'N4127']\n"
          ],
          "name": "stdout"
        }
      ]
    },
    {
      "cell_type": "code",
      "metadata": {
        "id": "CRDXfVdFHWmg",
        "colab_type": "code",
        "outputId": "8f6ab205-bcb7-4b9a-e2c6-8c27e796f843",
        "colab": {
          "base_uri": "https://localhost:8080/",
          "height": 589
        }
      },
      "source": [
        "print(model.summary())"
      ],
      "execution_count": 0,
      "outputs": [
        {
          "output_type": "stream",
          "text": [
            "Model: \"sequential_1\"\n",
            "_________________________________________________________________\n",
            "Layer (type)                 Output Shape              Param #   \n",
            "=================================================================\n",
            "conv2d_1 (Conv2D)            (None, 398, 398, 64)      1792      \n",
            "_________________________________________________________________\n",
            "max_pooling2d_1 (MaxPooling2 (None, 199, 199, 64)      0         \n",
            "_________________________________________________________________\n",
            "conv2d_2 (Conv2D)            (None, 197, 197, 32)      18464     \n",
            "_________________________________________________________________\n",
            "max_pooling2d_2 (MaxPooling2 (None, 98, 98, 32)        0         \n",
            "_________________________________________________________________\n",
            "conv2d_3 (Conv2D)            (None, 96, 96, 16)        4624      \n",
            "_________________________________________________________________\n",
            "max_pooling2d_3 (MaxPooling2 (None, 48, 48, 16)        0         \n",
            "_________________________________________________________________\n",
            "max_pooling2d_4 (MaxPooling2 (None, 12, 12, 16)        0         \n",
            "_________________________________________________________________\n",
            "flatten_1 (Flatten)          (None, 2304)              0         \n",
            "_________________________________________________________________\n",
            "dense_1 (Dense)              (None, 1024)              2360320   \n",
            "_________________________________________________________________\n",
            "dense_2 (Dense)              (None, 256)               262400    \n",
            "_________________________________________________________________\n",
            "dense_3 (Dense)              (None, 128)               32896     \n",
            "_________________________________________________________________\n",
            "dense_4 (Dense)              (None, 12)                1548      \n",
            "=================================================================\n",
            "Total params: 2,682,044\n",
            "Trainable params: 2,682,044\n",
            "Non-trainable params: 0\n",
            "_________________________________________________________________\n",
            "None\n"
          ],
          "name": "stdout"
        }
      ]
    },
    {
      "cell_type": "code",
      "metadata": {
        "id": "RNUemesuHa9x",
        "colab_type": "code",
        "outputId": "3b74fa9c-b752-4304-c75d-f6ee7b481161",
        "colab": {
          "base_uri": "https://localhost:8080/",
          "height": 1000
        }
      },
      "source": [
        "import numpy as np\n",
        "import matplotlib.pyplot as plt\n",
        "\n",
        "from keras.preprocessing import image\n",
        "className = target_names\n",
        "print(className)\n",
        "\n",
        "\n",
        "rootDir ='/content/drive/My Drive/data12_C/test/'\n",
        "\n",
        "idxFig = 0;\n",
        "\n",
        "plt.figure(figsize=(18,30))\n",
        "\n",
        "noTestedImages = 15\n",
        "dimSz = 400\n",
        "idxWd = 0\n",
        "y_test_wd = []\n",
        "y_pred_wd = []\n",
        "\n",
        "y_test_wd = np.ndarray([1], dtype=np.int64)\n",
        "y_test_wd[0] = 0\n",
        "y_pred_wd = np.ndarray([1], dtype=np.int64)\n",
        "y_pred_wd[0] = 0\n",
        "\n",
        "\n",
        "for idx in range(12):\n",
        "  #print('---------------',className[idx],'-------------------')\n",
        "  correctAns = 0\n",
        "  for idxSp in range(noTestedImages):\n",
        "    #fullPath = rootDir+className[idx]+'/'+className[idx]+str(idxSp+1)+'.jpg'\n",
        "    #print(fullPath)\n",
        "\n",
        "    fullPath = rootDir+className[idx]+'/'; \n",
        "    arr = os.listdir(fullPath)\n",
        "    #print(str(idx)+' '+str(idxSp)+' ')\n",
        "    fullPathToRead = fullPath+arr[idxSp]\n",
        "        \n",
        "    test_image = image.load_img(fullPathToRead, target_size =(dimSz, dimSz))\n",
        "    pics = test_image\n",
        "    \n",
        "    test_image = image.img_to_array(test_image)\n",
        "    test_image = np.expand_dims(test_image, axis = 0)\n",
        "    #result = classifier.predict(test_image)\n",
        "    result = model.predict(test_image)\n",
        "    classIdx = np.argmax(result)\n",
        "    print(str(idx)+\"  \"+str(classIdx))\n",
        "    \n",
        "    if idxWd == 0:\n",
        "      y_test_wd[idxWd] = idx\n",
        "      y_pred_wd[idxWd] = classIdx\n",
        "    else:\n",
        "      y_test_wd = np.append(y_test_wd,[idx])\n",
        "      y_pred_wd = np.append(y_pred_wd,[classIdx])\n",
        "    \n",
        "    idxWd = idxWd + 1\n",
        "    \n",
        "    #print(\"The image of \"+className[idx]+str(idxSp+1)+\" is identified as\",className[classIdx], \"  \",idxFig)  \n",
        "\n",
        "    #idxFig = idxFig + 1;    \n",
        "    #plt.subplot(12,15,idxFig)\n",
        "    #plt.imshow(pics)\n",
        "    #plt.title(className[idx]+\":\"+str(idxSp+1)+\" --> \"+className[classIdx])\n",
        "    #plt.subplots_adjust(wspace=0.5, hspace=0.3)\n",
        "    \n",
        "    #print(className[idx]+\" -> \"+className[classIdx])\n",
        "\n",
        "    if (className[idx] == className[classIdx]):\n",
        "      correctAns = correctAns + 1\n",
        "    accuracy = (correctAns/noTestedImages)*100\n",
        "  \n",
        "  print(\"%d: Accuracy of %s : %8.2f\" % (idx, className[idx],accuracy))\n",
        "\n",
        "\n",
        "print(y_test_wd.size)\n",
        "print(y_pred_wd.size)"
      ],
      "execution_count": 132,
      "outputs": [
        {
          "output_type": "stream",
          "text": [
            "['10091', '12672', '13381', '18212', '21684', '33497', '33963', '34013', '6171631', '6867', '7012', 'N4127']\n",
            "0  0\n",
            "0  0\n",
            "0  0\n",
            "0  0\n",
            "0  5\n",
            "0  0\n",
            "0  0\n",
            "0  0\n",
            "0  0\n",
            "0  0\n",
            "0  0\n",
            "0  0\n",
            "0  0\n",
            "0  2\n",
            "0  0\n",
            "0: Accuracy of 10091 :    86.67\n",
            "1  1\n",
            "1  1\n",
            "1  1\n",
            "1  1\n",
            "1  1\n",
            "1  1\n",
            "1  1\n",
            "1  1\n",
            "1  3\n",
            "1  10\n",
            "1  10\n",
            "1  1\n",
            "1  1\n",
            "1  1\n",
            "1  1\n",
            "1: Accuracy of 12672 :    80.00\n",
            "2  2\n",
            "2  2\n",
            "2  2\n",
            "2  2\n",
            "2  2\n",
            "2  2\n",
            "2  2\n",
            "2  2\n",
            "2  2\n",
            "2  2\n",
            "2  2\n",
            "2  2\n",
            "2  2\n",
            "2  2\n",
            "2  2\n",
            "2: Accuracy of 13381 :   100.00\n",
            "3  3\n",
            "3  3\n",
            "3  3\n",
            "3  3\n",
            "3  3\n",
            "3  3\n",
            "3  3\n",
            "3  3\n",
            "3  3\n",
            "3  3\n",
            "3  3\n",
            "3  6\n",
            "3  3\n",
            "3  3\n",
            "3  3\n",
            "3: Accuracy of 18212 :    93.33\n",
            "4  4\n",
            "4  4\n",
            "4  6\n",
            "4  4\n",
            "4  4\n",
            "4  4\n",
            "4  4\n",
            "4  9\n",
            "4  10\n",
            "4  4\n",
            "4  4\n",
            "4  4\n",
            "4  4\n",
            "4  4\n",
            "4  4\n",
            "4: Accuracy of 21684 :    80.00\n",
            "5  5\n",
            "5  5\n",
            "5  5\n",
            "5  6\n",
            "5  5\n",
            "5  2\n",
            "5  5\n",
            "5  6\n",
            "5  5\n",
            "5  5\n",
            "5  5\n",
            "5  5\n",
            "5  5\n",
            "5  5\n",
            "5  5\n",
            "5: Accuracy of 33497 :    80.00\n",
            "6  6\n",
            "6  6\n",
            "6  6\n",
            "6  6\n",
            "6  6\n",
            "6  6\n",
            "6  6\n",
            "6  3\n",
            "6  6\n",
            "6  6\n",
            "6  6\n",
            "6  6\n",
            "6  6\n",
            "6  6\n",
            "6  6\n",
            "6: Accuracy of 33963 :    93.33\n",
            "7  7\n",
            "7  6\n",
            "7  7\n",
            "7  10\n",
            "7  7\n",
            "7  6\n",
            "7  7\n",
            "7  7\n",
            "7  7\n",
            "7  7\n",
            "7  7\n",
            "7  6\n",
            "7  10\n",
            "7  7\n",
            "7  6\n",
            "7: Accuracy of 34013 :    60.00\n",
            "8  8\n",
            "8  8\n",
            "8  8\n",
            "8  8\n",
            "8  8\n",
            "8  8\n",
            "8  8\n",
            "8  8\n",
            "8  8\n",
            "8  8\n",
            "8  8\n",
            "8  8\n",
            "8  8\n",
            "8  8\n",
            "8  8\n",
            "8: Accuracy of 6171631 :   100.00\n",
            "9  9\n",
            "9  9\n",
            "9  9\n",
            "9  9\n",
            "9  9\n",
            "9  9\n",
            "9  9\n",
            "9  9\n",
            "9  9\n",
            "9  9\n",
            "9  9\n",
            "9  9\n",
            "9  9\n",
            "9  9\n",
            "9  9\n",
            "9: Accuracy of 6867 :   100.00\n",
            "10  10\n",
            "10  10\n",
            "10  10\n",
            "10  10\n",
            "10  10\n",
            "10  10\n",
            "10  10\n",
            "10  10\n",
            "10  10\n",
            "10  10\n",
            "10  4\n",
            "10  10\n",
            "10  10\n",
            "10  10\n",
            "10  10\n",
            "10: Accuracy of 7012 :    93.33\n",
            "11  11\n",
            "11  11\n",
            "11  11\n",
            "11  11\n",
            "11  11\n",
            "11  11\n",
            "11  11\n",
            "11  11\n",
            "11  11\n",
            "11  11\n",
            "11  11\n",
            "11  11\n",
            "11  8\n",
            "11  11\n",
            "11  11\n",
            "11: Accuracy of N4127 :    93.33\n",
            "180\n",
            "180\n"
          ],
          "name": "stdout"
        },
        {
          "output_type": "display_data",
          "data": {
            "text/plain": [
              "<Figure size 1296x2160 with 0 Axes>"
            ]
          },
          "metadata": {
            "tags": []
          }
        }
      ]
    },
    {
      "cell_type": "code",
      "metadata": {
        "id": "-XJjRxE5ShP3",
        "colab_type": "code",
        "colab": {
          "base_uri": "https://localhost:8080/",
          "height": 225
        },
        "outputId": "bebebb9c-e273-4f7c-f0df-e0c01927345c"
      },
      "source": [
        "import numpy as np\n",
        "import matplotlib.pyplot as plt\n",
        "\n",
        "from sklearn import svm, datasets\n",
        "from sklearn.model_selection import train_test_split\n",
        "from sklearn.metrics import confusion_matrix\n",
        "from sklearn.utils.multiclass import unique_labels\n",
        "\n",
        "# import some data to play with\n",
        "iris = datasets.load_iris()\n",
        "X = iris.data\n",
        "y = iris.target\n",
        "class_names = iris.target_names\n",
        "\n",
        "# Split the data into a training set and a test set\n",
        "X_train, X_test, y_train, y_test = train_test_split(X, y, random_state=0)\n",
        "\n",
        "# Run classifier, using a model that is too regularized (C too low) to see\n",
        "# the impact on the results\n",
        "classifier = svm.SVC(kernel='linear', C=0.01)\n",
        "y_pred = classifier.fit(X_train, y_train).predict(X_test)\n",
        "cm = confusion_matrix(y_test_wd, y_pred_wd)\n",
        "\n",
        "print(cm)"
      ],
      "execution_count": 133,
      "outputs": [
        {
          "output_type": "stream",
          "text": [
            "[[13  0  1  0  0  1  0  0  0  0  0  0]\n",
            " [ 0 12  0  1  0  0  0  0  0  0  2  0]\n",
            " [ 0  0 15  0  0  0  0  0  0  0  0  0]\n",
            " [ 0  0  0 14  0  0  1  0  0  0  0  0]\n",
            " [ 0  0  0  0 12  0  1  0  0  1  1  0]\n",
            " [ 0  0  1  0  0 12  2  0  0  0  0  0]\n",
            " [ 0  0  0  1  0  0 14  0  0  0  0  0]\n",
            " [ 0  0  0  0  0  0  4  9  0  0  2  0]\n",
            " [ 0  0  0  0  0  0  0  0 15  0  0  0]\n",
            " [ 0  0  0  0  0  0  0  0  0 15  0  0]\n",
            " [ 0  0  0  0  1  0  0  0  0  0 14  0]\n",
            " [ 0  0  0  0  0  0  0  0  1  0  0 14]]\n"
          ],
          "name": "stdout"
        }
      ]
    },
    {
      "cell_type": "code",
      "metadata": {
        "id": "PDc0xRTVrMwK",
        "colab_type": "code",
        "colab": {
          "base_uri": "https://localhost:8080/",
          "height": 793
        },
        "outputId": "ab78e37f-8c42-4ccb-c1e1-24ab1216e393"
      },
      "source": [
        "cm = confusion_matrix(y_test_wd, y_pred_wd)\n",
        "print(cm)\n",
        "\n",
        "cmap=plt.cm.Reds\n",
        "fig, ax = plt.subplots()\n",
        "im = ax.imshow(cm, interpolation='nearest', cmap=cmap)\n",
        "ax.figure.colorbar(im, ax=ax)\n",
        "\n",
        "ax.figure.set_size_inches(10,8,True)\n",
        "\n",
        "ax.set(xticks=np.arange(cm.shape[1]),\n",
        "  yticks=np.arange(cm.shape[0]),\n",
        "  xticklabels=className, yticklabels=className,\n",
        "  title='Confussion Matrix',\n",
        "  ylabel='True label',\n",
        "  xlabel='Predicted label')\n",
        "\n",
        "# Rotate the tick labels and set their alignment.\n",
        "plt.setp(ax.get_xticklabels(), rotation=90, ha=\"right\",\n",
        "  rotation_mode=\"anchor\")\n",
        "\n",
        "\n",
        "# Loop over data dimensions and create text annotations.\n",
        "#fmt = '.2f' if normalize else 'd'\n",
        "fmt = 'd'\n",
        "thresh = cm.max() / 2.\n",
        "for i in range(cm.shape[0]):\n",
        "  for j in range(cm.shape[1]):\n",
        "    ax.text(j, i, format(cm[i, j], fmt),\n",
        "    ha=\"center\", va=\"center\",\n",
        "    color=\"white\" if cm[i, j] > thresh else \"black\")\n",
        "\n",
        "fig.tight_layout()"
      ],
      "execution_count": 185,
      "outputs": [
        {
          "output_type": "stream",
          "text": [
            "[[13  0  1  0  0  1  0  0  0  0  0  0]\n",
            " [ 0 12  0  1  0  0  0  0  0  0  2  0]\n",
            " [ 0  0 15  0  0  0  0  0  0  0  0  0]\n",
            " [ 0  0  0 14  0  0  1  0  0  0  0  0]\n",
            " [ 0  0  0  0 12  0  1  0  0  1  1  0]\n",
            " [ 0  0  1  0  0 12  2  0  0  0  0  0]\n",
            " [ 0  0  0  1  0  0 14  0  0  0  0  0]\n",
            " [ 0  0  0  0  0  0  4  9  0  0  2  0]\n",
            " [ 0  0  0  0  0  0  0  0 15  0  0  0]\n",
            " [ 0  0  0  0  0  0  0  0  0 15  0  0]\n",
            " [ 0  0  0  0  1  0  0  0  0  0 14  0]\n",
            " [ 0  0  0  0  0  0  0  0  1  0  0 14]]\n"
          ],
          "name": "stdout"
        },
        {
          "output_type": "display_data",
          "data": {
            "image/png": "[encoded data removed]",
            "text/plain": [
              "<Figure size 720x576 with 2 Axes>"
            ]
          },
          "metadata": {
            "tags": []
          }
        }
      ]
    },
    {
      "cell_type": "code",
      "metadata": {
        "id": "w40Bax17HkuZ",
        "colab_type": "code",
        "colab": {
          "base_uri": "https://localhost:8080/",
          "height": 811
        },
        "outputId": "a1d902a5-8a65-467a-84f0-bb3ef8be5986"
      },
      "source": [
        "[m,n] = cm.shape\n",
        "totalSum = np.ndarray.sum(cm[0,0:n])\n",
        "print(totalSum)\n",
        "#print(m)\n",
        "cmf = cm.astype('float') / totalSum\n",
        "print(cmf)\n",
        "\n",
        "cmap=plt.cm.Blues\n",
        "fig, ax = plt.subplots()\n",
        "im = ax.imshow(cmf, interpolation='nearest', cmap=cmap)\n",
        "ax.figure.colorbar(im, ax=ax)\n",
        "ax.figure.set_size_inches(10,8,True)\n",
        "\n",
        "ax.set(xticks=np.arange(cmf.shape[1]),\n",
        "  yticks=np.arange(cmf.shape[0]),\n",
        "  xticklabels=className, yticklabels= className,\n",
        "  title='Confussion Matrix',\n",
        "  ylabel='True label',\n",
        "  xlabel='Predicted label')\n",
        "\n",
        "# Rotate the tick labels and set their alignment.\n",
        "plt.setp(ax.get_xticklabels(), rotation=90, ha=\"right\",\n",
        "  rotation_mode=\"anchor\")\n",
        "\n",
        "# Loop over data dimensions and create text annotations.\n",
        "#fmt = '.2f' if normalize else 'd'\n",
        "fmt = '.2f'\n",
        "thresh = cmf.max() / 2.\n",
        "for i in range(cmf.shape[0]):\n",
        "  for j in range(cmf.shape[1]):\n",
        "    ax.text(j, i, format(cmf[i, j], fmt),\n",
        "    ha=\"center\", va=\"center\",\n",
        "    color=\"white\" if cmf[i, j] > thresh else \"black\")\n",
        "\n",
        "fig.tight_layout()"
      ],
      "execution_count": 186,
      "outputs": [
        {
          "output_type": "stream",
          "text": [
            "15\n",
            "[[0.87 0.   0.07 0.   0.   0.07 0.   0.   0.   0.   0.   0.  ]\n",
            " [0.   0.8  0.   0.07 0.   0.   0.   0.   0.   0.   0.13 0.  ]\n",
            " [0.   0.   1.   0.   0.   0.   0.   0.   0.   0.   0.   0.  ]\n",
            " [0.   0.   0.   0.93 0.   0.   0.07 0.   0.   0.   0.   0.  ]\n",
            " [0.   0.   0.   0.   0.8  0.   0.07 0.   0.   0.07 0.07 0.  ]\n",
            " [0.   0.   0.07 0.   0.   0.8  0.13 0.   0.   0.   0.   0.  ]\n",
            " [0.   0.   0.   0.07 0.   0.   0.93 0.   0.   0.   0.   0.  ]\n",
            " [0.   0.   0.   0.   0.   0.   0.27 0.6  0.   0.   0.13 0.  ]\n",
            " [0.   0.   0.   0.   0.   0.   0.   0.   1.   0.   0.   0.  ]\n",
            " [0.   0.   0.   0.   0.   0.   0.   0.   0.   1.   0.   0.  ]\n",
            " [0.   0.   0.   0.   0.07 0.   0.   0.   0.   0.   0.93 0.  ]\n",
            " [0.   0.   0.   0.   0.   0.   0.   0.   0.07 0.   0.   0.93]]\n"
          ],
          "name": "stdout"
        },
        {
          "output_type": "display_data",
          "data": {
            "image/png": "[encoded data removed]",
            "text/plain": [
              "<Figure size 720x576 with 2 Axes>"
            ]
          },
          "metadata": {
            "tags": []
          }
        }
      ]
    },
    {
      "cell_type": "code",
      "metadata": {
        "id": "AkKp-OE2Q65d",
        "colab_type": "code",
        "colab": {
          "base_uri": "https://localhost:8080/",
          "height": 243
        },
        "outputId": "6405cafc-46cc-4134-ab4b-c2b0dc60a573"
      },
      "source": [
        "import numpy as np\n",
        "from sklearn.metrics import precision_recall_fscore_support\n",
        "precision_recall_fscore_support(y_test_wd, y_pred_wd,beta=1.0,labels=None)\n",
        "\n",
        "prec, recl, f1, _ = precision_recall_fscore_support(y_test_wd, y_pred_wd)\n",
        "#print(prec)     \n",
        "N = prec.size\n",
        "print('{:2}'.format('No')+\"   \"+'{:8}'.format('Codes')+\"  \"+'{:4}'.format('Prec')+\"    \"+'{:4}'.format('Recl')+\"   \"+\n",
        "      '{:4}'.format('F1-Sc'))\n",
        "for i in range(N):\n",
        "  print('{:2d}'.format(i)+\"   \"+'{:8}'.format(className[i])+\"  \"+'{:3.2f}'.format(prec[i])+\"    \"+\n",
        "        '{:3.2f}'.format(recl[i])+\"    \"+'{:3.2f}'.format(f1[i])   )"
      ],
      "execution_count": 234,
      "outputs": [
        {
          "output_type": "stream",
          "text": [
            "No   Codes     Prec    Recl   F1-Sc\n",
            " 0   10091     1.00    0.87    0.93\n",
            " 1   12672     1.00    0.80    0.89\n",
            " 2   13381     0.88    1.00    0.94\n",
            " 3   18212     0.88    0.93    0.90\n",
            " 4   21684     0.92    0.80    0.86\n",
            " 5   33497     0.92    0.80    0.86\n",
            " 6   33963     0.64    0.93    0.76\n",
            " 7   34013     1.00    0.60    0.75\n",
            " 8   6171631   0.94    1.00    0.97\n",
            " 9   6867      0.94    1.00    0.97\n",
            "10   7012      0.74    0.93    0.82\n",
            "11   N4127     1.00    0.93    0.97\n"
          ],
          "name": "stdout"
        }
      ]
    }
  ]
}