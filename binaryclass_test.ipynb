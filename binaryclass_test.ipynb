{
  "nbformat": 4,
  "nbformat_minor": 0,
  "metadata": {
    "colab": {
      "name": "binaryclass_test.ipynb",
      "provenance": [],
      "authorship_tag": "ABX9TyOEhOrEGsywRtuC1wYKMWjT",
      "include_colab_link": true
    },
    "kernelspec": {
      "name": "python3",
      "display_name": "Python 3"
    }
  },
  "cells": [
    {
      "cell_type": "markdown",
      "metadata": {
        "id": "view-in-github",
        "colab_type": "text"
      },
      "source": [
        "<a href=\"https://colab.research.google.com/github/esa-prakasa/ConvNet/blob/master/binaryclass_test.ipynb\" target=\"_parent\"><img src=\"https://colab.research.google.com/assets/colab-badge.svg\" alt=\"Open In Colab\"/></a>"
      ]
    },
    {
      "cell_type": "code",
      "metadata": {
        "id": "SiaSaJOvwrMc",
        "colab_type": "code",
        "outputId": "5b25b700-68f1-4fcd-9175-7ae31f800691",
        "colab": {
          "base_uri": "https://localhost:8080/",
          "height": 241
        }
      },
      "source": [
        "# Load dan mount Google Drive\n",
        "from google.colab import drive\n",
        "\n",
        "# Pilihan user authorization dengan menggunakan account Google\n",
        "drive.mount('/content/drive')\n",
        "\n",
        "# Pilihan user authorization dengan menggunakan account Google\n",
        "\n",
        "path = \"/content/drive/My Drive/Colab Notebooks/dataset\"\n",
        "!ls -l \"/content/drive/My Drive/Colab Notebooks/dataset\""
      ],
      "execution_count": 1,
      "outputs": [
        {
          "output_type": "stream",
          "text": [
            "Go to this URL in a browser: https://accounts.google.com/o/oauth2/auth?client_id=947318989803-6bn6qk8qdgf4n4g3pfee6491hc0brc4i.apps.googleusercontent.com&redirect_uri=urn%3aietf%3awg%3aoauth%3a2.0%3aoob&response_type=code&scope=email%20https%3a%2f%2fwww.googleapis.com%2fauth%2fdocs.test%20https%3a%2f%2fwww.googleapis.com%2fauth%2fdrive%20https%3a%2f%2fwww.googleapis.com%2fauth%2fdrive.photos.readonly%20https%3a%2f%2fwww.googleapis.com%2fauth%2fpeopleapi.readonly\n",
            "\n",
            "Enter your authorization code:\n",
            "··········\n",
            "Mounted at /content/drive\n",
            "total 20383\n",
            "-rw------- 1 root root      168 Feb  7 04:37  abc.csv\n",
            "-rw------- 1 root root   310090 Feb  7 04:18  juanda.jpg\n",
            "-rw------- 1 root root      151 Feb  7 04:32 'pima-indians-diabetes (1).data.csv.gdoc'\n",
            "-rw------- 1 root root    23278 Feb  7 03:47  pima-indians-diabetes.data.csv\n",
            "-rw------- 1 root root      151 Feb  7 04:33  pima-indians-diabetes.data.csv.gdoc\n",
            "-rw------- 1 root root 20535894 Feb  7 08:01  rgb20200207145649.csv\n"
          ],
          "name": "stdout"
        }
      ]
    },
    {
      "cell_type": "code",
      "metadata": {
        "id": "yr60-wCFBTsP",
        "colab_type": "code",
        "colab": {}
      },
      "source": [
        "import numpy as np\n",
        "import cv2\n",
        "import datetime"
      ],
      "execution_count": 0,
      "outputs": []
    },
    {
      "cell_type": "code",
      "metadata": {
        "id": "jeb-6FJFEH0w",
        "colab_type": "code",
        "colab": {
          "base_uri": "https://localhost:8080/",
          "height": 51
        },
        "outputId": "dff315ea-dcd1-4905-a2ee-fb4070f6fa9f"
      },
      "source": [
        "img = cv2.imread(\"/content/drive/My Drive/Colab Notebooks/dataset/juantest.jpg\")\n",
        "bwt = cv2.imread(\"/content/drive/My Drive/Colab Notebooks/dataset/juantestbw.bmp\",0)\n",
        "\n",
        "hg = img.shape[0]\n",
        "wd = img.shape[1]\n",
        "\n",
        "print(hg)\n",
        "print(wd)"
      ],
      "execution_count": 11,
      "outputs": [
        {
          "output_type": "stream",
          "text": [
            "639\n",
            "1479\n"
          ],
          "name": "stdout"
        }
      ]
    },
    {
      "cell_type": "code",
      "metadata": {
        "id": "_3_Oc-unJr8g",
        "colab_type": "code",
        "colab": {}
      },
      "source": [
        "import os\n",
        "import numpy as np\n",
        "import pandas as pd\n",
        "import seaborn as sns\n",
        "import matplotlib.pyplot as plt\n",
        "\n",
        "dataset = pd.read_csv(\"/content/drive/My Drive/Colab Notebooks/dataset/test20200207170710.csv\")"
      ],
      "execution_count": 0,
      "outputs": []
    },
    {
      "cell_type": "code",
      "metadata": {
        "id": "73RqcJcaJ0xQ",
        "colab_type": "code",
        "colab": {
          "base_uri": "https://localhost:8080/",
          "height": 204
        },
        "outputId": "0d45ad85-519f-4ac3-b9e0-6636e77b0059"
      },
      "source": [
        "X= dataset.iloc[:,0:5]\n",
        "Y= dataset.iloc[:,5]\n",
        "\n",
        "X.head(5)"
      ],
      "execution_count": 3,
      "outputs": [
        {
          "output_type": "execute_result",
          "data": {
            "text/html": [
              "<div>\n",
              "<style scoped>\n",
              "    .dataframe tbody tr th:only-of-type {\n",
              "        vertical-align: middle;\n",
              "    }\n",
              "\n",
              "    .dataframe tbody tr th {\n",
              "        vertical-align: top;\n",
              "    }\n",
              "\n",
              "    .dataframe thead th {\n",
              "        text-align: right;\n",
              "    }\n",
              "</style>\n",
              "<table border=\"1\" class=\"dataframe\">\n",
              "  <thead>\n",
              "    <tr style=\"text-align: right;\">\n",
              "      <th></th>\n",
              "      <th>i</th>\n",
              "      <th>j</th>\n",
              "      <th>red</th>\n",
              "      <th>green</th>\n",
              "      <th>blue</th>\n",
              "    </tr>\n",
              "  </thead>\n",
              "  <tbody>\n",
              "    <tr>\n",
              "      <th>0</th>\n",
              "      <td>0</td>\n",
              "      <td>0</td>\n",
              "      <td>254</td>\n",
              "      <td>120</td>\n",
              "      <td>23</td>\n",
              "    </tr>\n",
              "    <tr>\n",
              "      <th>1</th>\n",
              "      <td>0</td>\n",
              "      <td>1</td>\n",
              "      <td>255</td>\n",
              "      <td>116</td>\n",
              "      <td>21</td>\n",
              "    </tr>\n",
              "    <tr>\n",
              "      <th>2</th>\n",
              "      <td>0</td>\n",
              "      <td>2</td>\n",
              "      <td>255</td>\n",
              "      <td>123</td>\n",
              "      <td>28</td>\n",
              "    </tr>\n",
              "    <tr>\n",
              "      <th>3</th>\n",
              "      <td>0</td>\n",
              "      <td>3</td>\n",
              "      <td>255</td>\n",
              "      <td>125</td>\n",
              "      <td>27</td>\n",
              "    </tr>\n",
              "    <tr>\n",
              "      <th>4</th>\n",
              "      <td>0</td>\n",
              "      <td>4</td>\n",
              "      <td>254</td>\n",
              "      <td>124</td>\n",
              "      <td>26</td>\n",
              "    </tr>\n",
              "  </tbody>\n",
              "</table>\n",
              "</div>"
            ],
            "text/plain": [
              "   i   j   red   green   blue\n",
              "0  0   0   254     120     23\n",
              "1  0   1   255     116     21\n",
              "2  0   2   255     123     28\n",
              "3  0   3   255     125     27\n",
              "4  0   4   254     124     26"
            ]
          },
          "metadata": {
            "tags": []
          },
          "execution_count": 3
        }
      ]
    },
    {
      "cell_type": "code",
      "metadata": {
        "id": "eK2ENrT9J7l4",
        "colab_type": "code",
        "colab": {
          "base_uri": "https://localhost:8080/",
          "height": 119
        },
        "outputId": "52afbe8e-d408-4b4d-9a33-d4a95323f7ad"
      },
      "source": [
        "Y.head(5)"
      ],
      "execution_count": 4,
      "outputs": [
        {
          "output_type": "execute_result",
          "data": {
            "text/plain": [
              "0    0\n",
              "1    0\n",
              "2    0\n",
              "3    0\n",
              "4    0\n",
              "Name:  class, dtype: int64"
            ]
          },
          "metadata": {
            "tags": []
          },
          "execution_count": 4
        }
      ]
    },
    {
      "cell_type": "code",
      "metadata": {
        "id": "g6myrIp7J__I",
        "colab_type": "code",
        "colab": {
          "base_uri": "https://localhost:8080/",
          "height": 136
        },
        "outputId": "c9c5116c-d0df-4e01-d1b7-564e171085c8"
      },
      "source": [
        "#standardizing the input feature\n",
        "from sklearn.preprocessing import StandardScaler\n",
        "sc = StandardScaler()\n",
        "X = sc.fit_transform(X)\n",
        "X"
      ],
      "execution_count": 5,
      "outputs": [
        {
          "output_type": "execute_result",
          "data": {
            "text/plain": [
              "array([[-1.72934236, -1.73088011,  1.97955263, -0.05014185, -1.26597319],\n",
              "       [-1.72934236, -1.72853792,  1.99386907, -0.11039178, -1.29427149],\n",
              "       [-1.72934236, -1.72619572,  1.99386907, -0.00495441, -1.19522745],\n",
              "       ...,\n",
              "       [ 1.72934236,  1.72619572, -0.01043333, -0.0953293 ,  0.0498976 ],\n",
              "       [ 1.72934236,  1.72853792, -0.05338266, -0.14051674,  0.00745015],\n",
              "       [ 1.72934236,  1.73088011, -0.03906622, -0.12545426,  0.0215993 ]])"
            ]
          },
          "metadata": {
            "tags": []
          },
          "execution_count": 5
        }
      ]
    },
    {
      "cell_type": "code",
      "metadata": {
        "id": "plG7zOuvKCkp",
        "colab_type": "code",
        "colab": {
          "base_uri": "https://localhost:8080/",
          "height": 34
        },
        "outputId": "5d5671d0-62ba-4e67-f8e3-816ea0754b18"
      },
      "source": [
        "X_test = X\n",
        "Y_test = Y\n",
        "\n",
        "path = \"/content/drive/My Drive/Colab Notebooks/dataset/\"\n",
        "print(path)"
      ],
      "execution_count": 8,
      "outputs": [
        {
          "output_type": "stream",
          "text": [
            "hello/content/drive/My Drive/Colab Notebooks/dataset/\n"
          ],
          "name": "stdout"
        }
      ]
    },
    {
      "cell_type": "code",
      "metadata": {
        "id": "L55cLRO7KmQw",
        "colab_type": "code",
        "colab": {
          "base_uri": "https://localhost:8080/",
          "height": 51
        },
        "outputId": "e118c8cb-6536-4c5b-ae6f-eacb84bcf169"
      },
      "source": [
        "from keras.models import model_from_json\n",
        "\n",
        "\n",
        "# load json and create model\n",
        "json_file = open((path+'road_model.json'), 'r')\n",
        "loaded_model_json = json_file.read()\n",
        "json_file.close()\n",
        "loaded_model = model_from_json(loaded_model_json)\n",
        "# load weights into new model\n",
        "loaded_model.load_weights(path+\"road_wg_model.h5\")\n",
        "print(\"Loaded model from disk\")\n",
        " \n",
        "# evaluate loaded model on test data\n",
        "loaded_model.compile(loss='binary_crossentropy', optimizer='rmsprop', metrics=['accuracy'])\n",
        "score = loaded_model.evaluate(X_test, Y_test, verbose=0)\n",
        "print(\"%s: %.2f%%\" % (loaded_model.metrics_names[1], score[1]*100))"
      ],
      "execution_count": 13,
      "outputs": [
        {
          "output_type": "stream",
          "text": [
            "Loaded model from disk\n",
            "acc: 93.28%\n"
          ],
          "name": "stdout"
        }
      ]
    }
  ]
}